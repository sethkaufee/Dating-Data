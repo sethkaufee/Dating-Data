{
 "cells": [
  {
   "cell_type": "code",
   "execution_count": null,
   "metadata": {
    "collapsed": false
   },
   "outputs": [],
   "source": [
    "from matplotlib import rcParams\n",
    "from matplotlib.font_manager import FontProperties"
   ]
  },
  {
   "cell_type": "code",
   "execution_count": null,
   "metadata": {
    "collapsed": false
   },
   "outputs": [],
   "source": [
    "%matplotlib inline\n",
    "from preprocess import KNeighborsImputer, rename_columns\n",
    "import matplotlib.pyplot as plt\n",
    "import seaborn as sns\n",
    "import pandas as pd\n",
    "import numpy as np\n",
    "import warnings\n",
    "\n",
    "warnings.filterwarnings('ignore')"
   ]
  },
  {
   "cell_type": "code",
   "execution_count": null,
   "metadata": {
    "collapsed": true
   },
   "outputs": [],
   "source": [
    "field_codes = {1: \"Law\", 2: \"Math\", 3: \"Social Science, Psychologist\", 4: \"Medical Science, Pharmaceuticals, and Bio Tech\", 5: \"Engineering\", 6: \"English/Creative Writing/ Journalism\", 7: \"History/Religion/Philosophy\", 8: \"Business/Econ/Finance \", 9: \"Education, Academia\", 10: \"Biological Sciences/Chemistry/Physics\", 11: \"Social Work\", 12: \"Undergrad/undecided \", 13:\"Political Science/International Affairs\", 14:\"Film\", 15:\"Fine Arts/Arts Administration\", 16:\"Languages\", 17:\"Architecture\", 18:\"Other\"}"
   ]
  },
  {
   "cell_type": "code",
   "execution_count": 3,
   "metadata": {
    "collapsed": false
   },
   "outputs": [],
   "source": [
    "frame=rename_columns(pd.read_csv('Speed Dating Data.csv',encoding=\"ISO-8859-1\"))\n",
    "frame['mn_sat'] = frame.mn_sat.str.replace(r',','').astype(float)\n",
    "frame['tuition'] = frame.tuition.str.replace(r',','').astype(float)\n",
    "frame['income'] = frame.income.str.replace(',','').astype(float)\n",
    "frame['zipcode'] = frame.zipcode.str.replace(',','').astype(float)\n",
    "frame['field_cd'] = frame.field_cd.map(field_codes)\n",
    "\n",
    "findex=frame.gender==0\n",
    "mindex=frame.gender==1"
   ]
  },
  {
   "cell_type": "code",
   "execution_count": 4,
   "metadata": {
    "collapsed": true
   },
   "outputs": [],
   "source": [
    "_id = pd.Index(['iid','pid'])\n",
    "personal_attributes = pd.Index(['gender','age', 'field', 'field_cd', 'undergra', 'mn_sat', 'tuition', 'race', 'initial_race_importance', 'initial_religion_importance', 'from', 'zipcode', 'income', 'goal', 'date', 'go_out', 'career', 'sports', 'tvsports', 'exercise', 'dining', 'museums', 'art', 'hiking', 'gaming', 'clubbing', 'reading', 'tv', 'theater', 'movies', 'concerts', 'music', 'shopping', 'yoga'])\n",
    "pre_survey = pd.Index(['initial_happy_expectation', 'initial_number_expectation', 'initial_attractive_importance', 'initial_sincere_importance', 'initial_intelligence_importance', 'initial_fun_importance', 'initial_ambitious_importance', 'initial_shared_interests_importance', 'initial_attractive_same_importance', 'initial_sincere_same_importance', 'initial_intelligence_same_importance', 'initial_fun_same_importance', 'initial_ambitious_same_importance', 'initial_shared_same_importance', 'initial_attractive_opposite_importance', 'initial_sincere_opposite_importance', 'initial_intelligence_opposite_importance', 'initial_fun_opposite_importance', 'initial_ambitious_opposite_importance', 'initial_shared_opposite_importance', 'initial_attractive_self_measure', 'initial_sincere_self_measure', 'initial_fun_self_measure', 'initial_intelligence_self_measure', 'initial_ambitious_self_measure', 'initial_attractive_others_measure', 'initial_sincere_others_measure', 'initial_intelligence_others_measure', 'initial_fun_others_measure', 'initial_ambitious_others_measure'])\n",
    "decisions = pd.Index(['dec','match'])\n",
    "partner_attributes = pd.Index(['pid','partner','int_corr', 'samerace','age_o', 'race_o', 'pf_o_att', 'pf_o_sin', 'pf_o_int', 'pf_o_fun', 'pf_o_amb', 'pf_o_sha', 'dec_o', 'attr_o', 'sinc_o', 'intel_o', 'fun_o', 'amb_o', 'shar_o', 'like_o', 'prob_o', 'met_o'])\n",
    "wave_conditions = pd.Index(['condtn', 'wave', 'round', 'position','positin1', 'order'])\n",
    "during_survey = pd.Index(['attr', 'sinc', 'intel', 'fun', 'amb', 'shar', 'like', 'prob','met'])\n",
    "halfway_survey = pd.Index(['match_es', 'halfway_attractive_importance','halfway_sincere_importance', 'halfway_intelligence_importance','halfway_fun_importance', 'halfway_ambitious_importance','halfway_shared_interests_importance','halfway_attractive_self_measure', 'halfway_sincere_self_measure','halfway_intelligence_self_measure', 'halfway_fun_self_measure','halfway_ambitious_self_measure'])\n",
    "followup_survey = pd.Index(['followup_overall_satisfaction','followup_length_dates_satisfaction','followup_num_dates_satisfaction','followup_attractive_influence','followup_sincere_influence','followup_intelligence_influence','followup_fun_influence','followup_ambitious_influence','followup_shared_interests_influence','followup_attractive_importance','followup_sincere_importance','followup_intelligence_importance','followup_fun_importance','followup_ambitious_importance','followup_shared_interests_importance','followup_attractive_same_importance','followup_sincere_same_importance','followup_intelligence_same_importance','followup_fun_same_importance','followup_ambitious_same_importance','followup_shared_same_importance','followup_attractive_opposite_importance','followup_sincere_opposite_importance','followup_intelligence_opposite_importance','followup_fun_opposite_importance','followup_ambitious_opposite_importance','followup_shared_opposite_importance','followup_attractive_self_measure','followup_sincere_self_measure','followup_intelligence_self_measure','followup_fun_self_measure','followup_ambitious_self_measure','followup_attractive_others_measure','followup_sincere_others_measure','followup_intelligence_others_measure','followup_fun_others_measure','followup_ambitious_others_measure',])\n",
    "final_survey = pd.Index(['final_you_call_count','final_them_call_count','final_match_dates','final_num_match_seen','final_num_match_dates','final_attractive_importance','final_sincere_importance','final_intelligence_importance','final_fun_importance','final_ambitious_importance','final_shared_interests_importance','final_attractive_influence','final_sincere_influence','final_intelligence_influence','final_fun_influence','final_ambitious_influence','final_shared_interests_influence','final_attractive_same_importance','final_sincere_same_importance','final_intelligence_same_importance','final_fun_same_importance','final_ambitious_same_importance','final_shared_same_importance','final_attractive_opposite_importance','final_sincere_opposite_importance','final_intelligence_opposite_importance','final_fun_opposite_importance','final_ambitious_opposite_importance','final_shared_opposite_importance','final_attractive_self_measure','final_sincere_self_measure','final_intelligence_self_measure','final_fun_self_measure','final_ambitious_self_measure','final_attractive_others_measure','final_sincere_others_measure','final_intelligence_others_measure','final_fun_others_measure','final_ambitious_others_measure',])"
   ]
  },
  {
   "cell_type": "code",
   "execution_count": 5,
   "metadata": {
    "collapsed": false
   },
   "outputs": [
    {
     "data": {
      "text/html": [
       "<div>\n",
       "<table border=\"1\" class=\"dataframe\">\n",
       "  <thead>\n",
       "    <tr style=\"text-align: right;\">\n",
       "      <th></th>\n",
       "      <th>iid</th>\n",
       "      <th>id</th>\n",
       "      <th>gender</th>\n",
       "      <th>idg</th>\n",
       "      <th>condtn</th>\n",
       "      <th>wave</th>\n",
       "      <th>round</th>\n",
       "      <th>position</th>\n",
       "      <th>positin1</th>\n",
       "      <th>order</th>\n",
       "      <th>...</th>\n",
       "      <th>final_attractive_self_measure</th>\n",
       "      <th>final_sincere_self_measure</th>\n",
       "      <th>final_intelligence_self_measure</th>\n",
       "      <th>final_fun_self_measure</th>\n",
       "      <th>final_ambitious_self_measure</th>\n",
       "      <th>final_attractive_others_measure</th>\n",
       "      <th>final_sincere_others_measure</th>\n",
       "      <th>final_intelligence_others_measure</th>\n",
       "      <th>final_fun_others_measure</th>\n",
       "      <th>final_ambitious_others_measure</th>\n",
       "    </tr>\n",
       "  </thead>\n",
       "  <tbody>\n",
       "    <tr>\n",
       "      <th>0</th>\n",
       "      <td>1</td>\n",
       "      <td>1.0</td>\n",
       "      <td>0</td>\n",
       "      <td>1</td>\n",
       "      <td>1</td>\n",
       "      <td>1</td>\n",
       "      <td>10</td>\n",
       "      <td>7</td>\n",
       "      <td>NaN</td>\n",
       "      <td>4</td>\n",
       "      <td>...</td>\n",
       "      <td>5.0</td>\n",
       "      <td>7.0</td>\n",
       "      <td>7.0</td>\n",
       "      <td>7.0</td>\n",
       "      <td>7.0</td>\n",
       "      <td>NaN</td>\n",
       "      <td>NaN</td>\n",
       "      <td>NaN</td>\n",
       "      <td>NaN</td>\n",
       "      <td>NaN</td>\n",
       "    </tr>\n",
       "    <tr>\n",
       "      <th>1</th>\n",
       "      <td>1</td>\n",
       "      <td>1.0</td>\n",
       "      <td>0</td>\n",
       "      <td>1</td>\n",
       "      <td>1</td>\n",
       "      <td>1</td>\n",
       "      <td>10</td>\n",
       "      <td>7</td>\n",
       "      <td>NaN</td>\n",
       "      <td>3</td>\n",
       "      <td>...</td>\n",
       "      <td>5.0</td>\n",
       "      <td>7.0</td>\n",
       "      <td>7.0</td>\n",
       "      <td>7.0</td>\n",
       "      <td>7.0</td>\n",
       "      <td>NaN</td>\n",
       "      <td>NaN</td>\n",
       "      <td>NaN</td>\n",
       "      <td>NaN</td>\n",
       "      <td>NaN</td>\n",
       "    </tr>\n",
       "    <tr>\n",
       "      <th>2</th>\n",
       "      <td>1</td>\n",
       "      <td>1.0</td>\n",
       "      <td>0</td>\n",
       "      <td>1</td>\n",
       "      <td>1</td>\n",
       "      <td>1</td>\n",
       "      <td>10</td>\n",
       "      <td>7</td>\n",
       "      <td>NaN</td>\n",
       "      <td>10</td>\n",
       "      <td>...</td>\n",
       "      <td>5.0</td>\n",
       "      <td>7.0</td>\n",
       "      <td>7.0</td>\n",
       "      <td>7.0</td>\n",
       "      <td>7.0</td>\n",
       "      <td>NaN</td>\n",
       "      <td>NaN</td>\n",
       "      <td>NaN</td>\n",
       "      <td>NaN</td>\n",
       "      <td>NaN</td>\n",
       "    </tr>\n",
       "    <tr>\n",
       "      <th>3</th>\n",
       "      <td>1</td>\n",
       "      <td>1.0</td>\n",
       "      <td>0</td>\n",
       "      <td>1</td>\n",
       "      <td>1</td>\n",
       "      <td>1</td>\n",
       "      <td>10</td>\n",
       "      <td>7</td>\n",
       "      <td>NaN</td>\n",
       "      <td>5</td>\n",
       "      <td>...</td>\n",
       "      <td>5.0</td>\n",
       "      <td>7.0</td>\n",
       "      <td>7.0</td>\n",
       "      <td>7.0</td>\n",
       "      <td>7.0</td>\n",
       "      <td>NaN</td>\n",
       "      <td>NaN</td>\n",
       "      <td>NaN</td>\n",
       "      <td>NaN</td>\n",
       "      <td>NaN</td>\n",
       "    </tr>\n",
       "    <tr>\n",
       "      <th>4</th>\n",
       "      <td>1</td>\n",
       "      <td>1.0</td>\n",
       "      <td>0</td>\n",
       "      <td>1</td>\n",
       "      <td>1</td>\n",
       "      <td>1</td>\n",
       "      <td>10</td>\n",
       "      <td>7</td>\n",
       "      <td>NaN</td>\n",
       "      <td>7</td>\n",
       "      <td>...</td>\n",
       "      <td>5.0</td>\n",
       "      <td>7.0</td>\n",
       "      <td>7.0</td>\n",
       "      <td>7.0</td>\n",
       "      <td>7.0</td>\n",
       "      <td>NaN</td>\n",
       "      <td>NaN</td>\n",
       "      <td>NaN</td>\n",
       "      <td>NaN</td>\n",
       "      <td>NaN</td>\n",
       "    </tr>\n",
       "  </tbody>\n",
       "</table>\n",
       "<p>5 rows × 195 columns</p>\n",
       "</div>"
      ],
      "text/plain": [
       "   iid   id  gender  idg  condtn  wave  round  position  positin1  order  \\\n",
       "0    1  1.0       0    1       1     1     10         7       NaN      4   \n",
       "1    1  1.0       0    1       1     1     10         7       NaN      3   \n",
       "2    1  1.0       0    1       1     1     10         7       NaN     10   \n",
       "3    1  1.0       0    1       1     1     10         7       NaN      5   \n",
       "4    1  1.0       0    1       1     1     10         7       NaN      7   \n",
       "\n",
       "                ...                final_attractive_self_measure  \\\n",
       "0               ...                                          5.0   \n",
       "1               ...                                          5.0   \n",
       "2               ...                                          5.0   \n",
       "3               ...                                          5.0   \n",
       "4               ...                                          5.0   \n",
       "\n",
       "   final_sincere_self_measure  final_intelligence_self_measure  \\\n",
       "0                         7.0                              7.0   \n",
       "1                         7.0                              7.0   \n",
       "2                         7.0                              7.0   \n",
       "3                         7.0                              7.0   \n",
       "4                         7.0                              7.0   \n",
       "\n",
       "   final_fun_self_measure  final_ambitious_self_measure  \\\n",
       "0                     7.0                           7.0   \n",
       "1                     7.0                           7.0   \n",
       "2                     7.0                           7.0   \n",
       "3                     7.0                           7.0   \n",
       "4                     7.0                           7.0   \n",
       "\n",
       "   final_attractive_others_measure  final_sincere_others_measure  \\\n",
       "0                              NaN                           NaN   \n",
       "1                              NaN                           NaN   \n",
       "2                              NaN                           NaN   \n",
       "3                              NaN                           NaN   \n",
       "4                              NaN                           NaN   \n",
       "\n",
       "   final_intelligence_others_measure  final_fun_others_measure  \\\n",
       "0                                NaN                       NaN   \n",
       "1                                NaN                       NaN   \n",
       "2                                NaN                       NaN   \n",
       "3                                NaN                       NaN   \n",
       "4                                NaN                       NaN   \n",
       "\n",
       "   final_ambitious_others_measure  \n",
       "0                             NaN  \n",
       "1                             NaN  \n",
       "2                             NaN  \n",
       "3                             NaN  \n",
       "4                             NaN  \n",
       "\n",
       "[5 rows x 195 columns]"
      ]
     },
     "execution_count": 5,
     "metadata": {},
     "output_type": "execute_result"
    }
   ],
   "source": [
    "frame.head()"
   ]
  },
  {
   "cell_type": "code",
   "execution_count": 7,
   "metadata": {
    "collapsed": true
   },
   "outputs": [],
   "source": [
    "fframe = frame.loc[findex].copy()\n",
    "mframe = frame.loc[mindex].copy()"
   ]
  },
  {
   "cell_type": "markdown",
   "metadata": {},
   "source": [
    "## Cleaning "
   ]
  },
  {
   "cell_type": "code",
   "execution_count": 8,
   "metadata": {
    "collapsed": false,
    "scrolled": true
   },
   "outputs": [
    {
     "data": {
      "text/html": [
       "<div>\n",
       "<table border=\"1\" class=\"dataframe\">\n",
       "  <thead>\n",
       "    <tr style=\"text-align: right;\">\n",
       "      <th></th>\n",
       "      <th>field</th>\n",
       "      <th>field_cd</th>\n",
       "      <th>undergra</th>\n",
       "      <th>from</th>\n",
       "      <th>career</th>\n",
       "      <th>field_code</th>\n",
       "      <th>field_cd_code</th>\n",
       "      <th>undergra_code</th>\n",
       "      <th>from_code</th>\n",
       "      <th>career_code</th>\n",
       "    </tr>\n",
       "  </thead>\n",
       "  <tbody>\n",
       "    <tr>\n",
       "      <th>0</th>\n",
       "      <td>Law</td>\n",
       "      <td>Law</td>\n",
       "      <td>NaN</td>\n",
       "      <td>Chicago</td>\n",
       "      <td>lawyer</td>\n",
       "      <td>123</td>\n",
       "      <td>10</td>\n",
       "      <td>-1</td>\n",
       "      <td>49</td>\n",
       "      <td>300</td>\n",
       "    </tr>\n",
       "    <tr>\n",
       "      <th>1</th>\n",
       "      <td>Law</td>\n",
       "      <td>Law</td>\n",
       "      <td>NaN</td>\n",
       "      <td>Chicago</td>\n",
       "      <td>lawyer</td>\n",
       "      <td>123</td>\n",
       "      <td>10</td>\n",
       "      <td>-1</td>\n",
       "      <td>49</td>\n",
       "      <td>300</td>\n",
       "    </tr>\n",
       "    <tr>\n",
       "      <th>2</th>\n",
       "      <td>Law</td>\n",
       "      <td>Law</td>\n",
       "      <td>NaN</td>\n",
       "      <td>Chicago</td>\n",
       "      <td>lawyer</td>\n",
       "      <td>123</td>\n",
       "      <td>10</td>\n",
       "      <td>-1</td>\n",
       "      <td>49</td>\n",
       "      <td>300</td>\n",
       "    </tr>\n",
       "    <tr>\n",
       "      <th>3</th>\n",
       "      <td>Law</td>\n",
       "      <td>Law</td>\n",
       "      <td>NaN</td>\n",
       "      <td>Chicago</td>\n",
       "      <td>lawyer</td>\n",
       "      <td>123</td>\n",
       "      <td>10</td>\n",
       "      <td>-1</td>\n",
       "      <td>49</td>\n",
       "      <td>300</td>\n",
       "    </tr>\n",
       "    <tr>\n",
       "      <th>4</th>\n",
       "      <td>Law</td>\n",
       "      <td>Law</td>\n",
       "      <td>NaN</td>\n",
       "      <td>Chicago</td>\n",
       "      <td>lawyer</td>\n",
       "      <td>123</td>\n",
       "      <td>10</td>\n",
       "      <td>-1</td>\n",
       "      <td>49</td>\n",
       "      <td>300</td>\n",
       "    </tr>\n",
       "  </tbody>\n",
       "</table>\n",
       "</div>"
      ],
      "text/plain": [
       "  field field_cd undergra     from  career  field_code  field_cd_code  \\\n",
       "0   Law      Law      NaN  Chicago  lawyer         123             10   \n",
       "1   Law      Law      NaN  Chicago  lawyer         123             10   \n",
       "2   Law      Law      NaN  Chicago  lawyer         123             10   \n",
       "3   Law      Law      NaN  Chicago  lawyer         123             10   \n",
       "4   Law      Law      NaN  Chicago  lawyer         123             10   \n",
       "\n",
       "   undergra_code  from_code  career_code  \n",
       "0             -1         49          300  \n",
       "1             -1         49          300  \n",
       "2             -1         49          300  \n",
       "3             -1         49          300  \n",
       "4             -1         49          300  "
      ]
     },
     "execution_count": 8,
     "metadata": {},
     "output_type": "execute_result"
    }
   ],
   "source": [
    "text_columns = frame.dtypes[(frame.dtypes==object) & (~frame.dtypes.index.str.contains('name'))].index\n",
    "frame[text_columns] = frame[text_columns].apply(lambda x: x.astype('category'))\n",
    "categorical_columns = frame.dtypes[frame.dtypes=='category'].index\n",
    "categorical_features = frame[categorical_columns]\n",
    "for col in categorical_columns:\n",
    "    categorical_features[col+'_code'] = categorical_features[col].cat.codes\n",
    "categorical_features.head()"
   ]
  },
  {
   "cell_type": "code",
   "execution_count": 9,
   "metadata": {
    "collapsed": false
   },
   "outputs": [],
   "source": [
    "unique_date = wave_conditions.drop(['condtn','positin1','round']).tolist()\n",
    "\n",
    "attributes_columns = (pre_survey | personal_attributes | _id | ['match'] | unique_date)\n",
    "attributes_frame = frame.loc[:,attributes_columns].copy()"
   ]
  },
  {
   "cell_type": "code",
   "execution_count": 10,
   "metadata": {
    "collapsed": false
   },
   "outputs": [],
   "source": [
    "attributes_frame.dropna(axis=1,thresh=8200,inplace=True)\n",
    "attributes_frame.dropna(subset=['pid'],inplace=True)\n",
    "\n",
    "for col in attributes_frame.columns:\n",
    "    if hasattr(attributes_frame[col],'cat'):\n",
    "        attributes_frame[col] = attributes_frame[col].cat.codes\n",
    "attributes_frame = attributes_frame.replace(-1,np.nan)\n",
    "attributes_frame.dropna(thresh=45,inplace=True)"
   ]
  },
  {
   "cell_type": "code",
   "execution_count": 11,
   "metadata": {
    "collapsed": false
   },
   "outputs": [],
   "source": [
    "#imputer = KNeighborsImputer(n_neighbors=6)\n",
    "#filled_attributes_frame = imputer.fit_transform(attributes_frame).astype(int)\n",
    "#filled_attributes_frame.to_pickle('imputed.pkl')\n",
    "filled_attributes_frame = pd.read_pickle('imputed.pkl')"
   ]
  },
  {
   "cell_type": "markdown",
   "metadata": {},
   "source": [
    "## Exploring"
   ]
  },
  {
   "cell_type": "code",
   "execution_count": 17,
   "metadata": {
    "collapsed": true
   },
   "outputs": [],
   "source": [
    "explore_frame = frame.copy()\n",
    "\n",
    "from sklearn.preprocessing import MinMaxScaler\n",
    "\n",
    "explore_frame['gender'] = explore_frame.gender.map({0:'Female',1:'Male'})\n",
    "females = explore_frame.gender.where(explore_frame.gender=='Female').dropna().index\n",
    "males = explore_frame.gender.where(explore_frame.gender=='Male').dropna().index"
   ]
  },
  {
   "cell_type": "code",
   "execution_count": 20,
   "metadata": {
    "collapsed": false
   },
   "outputs": [],
   "source": [
    "sns.set_context(context='talk', font_scale=1, rc={'figure.dpi':'1200','font.fantasy':'Western'})\n",
    "sns.set_style('white')\n",
    "#sns.set_style(\"font\", {\"xtick.major.size\": 8, \"ytick.major.size\": 8})"
   ]
  },
  {
   "cell_type": "code",
   "execution_count": null,
   "metadata": {
    "collapsed": true
   },
   "outputs": [],
   "source": [
    "grouped.transform(lambda x: (~x.astype(bool)).sum() (x - x.mean()) / x.std())"
   ]
  },
  {
   "cell_type": "code",
   "execution_count": 59,
   "metadata": {
    "collapsed": true
   },
   "outputs": [
    {
     "data": {
      "text/plain": [
       "0       False\n",
       "1       False\n",
       "2       False\n",
       "3       False\n",
       "4       False\n",
       "5        True\n",
       "6       False\n",
       "7        True\n",
       "8       False\n",
       "9       False\n",
       "10       True\n",
       "11       True\n",
       "12       True\n",
       "13      False\n",
       "14       True\n",
       "15       True\n",
       "16      False\n",
       "17       True\n",
       "18      False\n",
       "19      False\n",
       "20       True\n",
       "21       True\n",
       "22       True\n",
       "23       True\n",
       "24       True\n",
       "25       True\n",
       "26       True\n",
       "27       True\n",
       "28       True\n",
       "29       True\n",
       "        ...  \n",
       "8348     True\n",
       "8349     True\n",
       "8350     True\n",
       "8351     True\n",
       "8352     True\n",
       "8353     True\n",
       "8354     True\n",
       "8355     True\n",
       "8356    False\n",
       "8357    False\n",
       "8358     True\n",
       "8359     True\n",
       "8360    False\n",
       "8361     True\n",
       "8362    False\n",
       "8363    False\n",
       "8364    False\n",
       "8365     True\n",
       "8366     True\n",
       "8367     True\n",
       "8368     True\n",
       "8369     True\n",
       "8370     True\n",
       "8371    False\n",
       "8372     True\n",
       "8373     True\n",
       "8374     True\n",
       "8375     True\n",
       "8376     True\n",
       "8377     True\n",
       "Name: dec, dtype: bool"
      ]
     },
     "execution_count": 59,
     "metadata": {},
     "output_type": "execute_result"
    }
   ],
   "source": [
    "~explore_frame.dec.astype(bool)"
   ]
  },
  {
   "cell_type": "code",
   "execution_count": 69,
   "metadata": {
    "collapsed": true
   },
   "outputs": [
    {
     "data": {
      "text/plain": [
       "0       10\n",
       "1       10\n",
       "2       10\n",
       "3       10\n",
       "4       10\n",
       "5       10\n",
       "6       10\n",
       "7       10\n",
       "8       10\n",
       "9       10\n",
       "10      10\n",
       "11      10\n",
       "12      10\n",
       "13      10\n",
       "14      10\n",
       "15      10\n",
       "16      10\n",
       "17      10\n",
       "18      10\n",
       "19      10\n",
       "20      10\n",
       "21      10\n",
       "22      10\n",
       "23      10\n",
       "24      10\n",
       "25      10\n",
       "26      10\n",
       "27      10\n",
       "28      10\n",
       "29      10\n",
       "        ..\n",
       "8348    22\n",
       "8349    22\n",
       "8350    22\n",
       "8351    22\n",
       "8352    22\n",
       "8353    22\n",
       "8354    22\n",
       "8355    22\n",
       "8356    22\n",
       "8357    22\n",
       "8358    22\n",
       "8359    22\n",
       "8360    22\n",
       "8361    22\n",
       "8362    22\n",
       "8363    22\n",
       "8364    22\n",
       "8365    22\n",
       "8366    22\n",
       "8367    22\n",
       "8368    22\n",
       "8369    22\n",
       "8370    22\n",
       "8371    22\n",
       "8372    22\n",
       "8373    22\n",
       "8374    22\n",
       "8375    22\n",
       "8376    22\n",
       "8377    22\n",
       "Name: round, dtype: int64"
      ]
     },
     "execution_count": 69,
     "metadata": {},
     "output_type": "execute_result"
    }
   ],
   "source": [
    "explore_frame['round']"
   ]
  },
  {
   "cell_type": "code",
   "execution_count": null,
   "metadata": {
    "collapsed": true
   },
   "outputs": [],
   "source": [
    "gridspec_kws : dict, optional\n",
    "Dictionary of keyword arguments passed to matplotlib's ``gridspec``\n",
    "module (via ``plt.subplots``). Requires matplotlib >= 1.4 and is\n",
    "ignored if ``col_wrap`` is not ``None``.\n"
   ]
  },
  {
   "cell_type": "code",
   "execution_count": 122,
   "metadata": {
    "collapsed": false
   },
   "outputs": [
    {
     "data": {
      "text/plain": [
       "[<matplotlib.axes._subplots.AxesSubplot at 0x1204db8d0>,\n",
       " <matplotlib.axes._subplots.AxesSubplot at 0x12e6735c0>]"
      ]
     },
     "execution_count": 122,
     "metadata": {},
     "output_type": "execute_result"
    }
   ],
   "source": [
    "g."
   ]
  },
  {
   "cell_type": "code",
   "execution_count": 141,
   "metadata": {
    "collapsed": false
   },
   "outputs": [],
   "source": [
    "explore_frame['mask'] = 0"
   ]
  },
  {
   "cell_type": "code",
   "execution_count": 154,
   "metadata": {
    "collapsed": false
   },
   "outputs": [
    {
     "name": "stdout",
     "output_type": "stream",
     "text": [
      "README.md    \u001b[34mSpeed Dating\u001b[m\u001b[m\r\n"
     ]
    }
   ],
   "source": []
  },
  {
   "cell_type": "code",
   "execution_count": 155,
   "metadata": {
    "collapsed": true
   },
   "outputs": [
    {
     "data": {
      "image/png": "[encoded data removed]",
      "text/plain": [
       "<matplotlib.figure.Figure at 0x120cffe48>"
      ]
     },
     "metadata": {},
     "output_type": "display_data"
    }
   ],
   "source": [
    "minmax = MinMaxScaler(feature_range=(0,5))\n",
    "\n",
    "explore_frame['dec_person'] = explore_frame.groupby(['iid'])['dec'].transform(lambda x: (~x.astype(bool)).sum())\n",
    "explore_frame['dec_person'] = explore_frame['round'] - explore_frame['dec_person']\n",
    "\n",
    "g = sns.FacetGrid(explore_frame, row='gender', hue='gender', palette={\"Female\":'m',\"Male\":'b'},\n",
    "                  aspect=2.5,size=3,margin_titles=True,)\n",
    "\n",
    "#g.map(sns.distplot,a=explore_frame.dec)\n",
    "g.fig.suptitle('Number of Yes Decisions: Male vs. Female',fontsize='large')\n",
    "g.map(sns.distplot,'dec_person',bins=15,)\n",
    "g.set_xlabels(label='Counts')\n",
    "g.set_ylabels(label='Frequency')\n",
    "g.savefig('../Assets/Dec_per_person.svg', format='svg', dpi=1200)\n",
    "plt.show();"
   ]
  },
  {
   "cell_type": "code",
   "execution_count": 21,
   "metadata": {
    "collapsed": false
   },
   "outputs": [
    {
     "data": {
      "image/png": "[encoded data removed]",
      "text/plain": [
       "<matplotlib.figure.Figure at 0x120648048>"
      ]
     },
     "metadata": {},
     "output_type": "display_data"
    }
   ],
   "source": [
    "explore_frame['dec_person'] = explore_frame.groupby(['iid'])['dec'].transform(lambda x: (~x.astype(bool)).sum())\n",
    "explore_frame['dec_person'] = explore_frame['round'] - explore_frame['dec_person']\n",
    "\n",
    "g = sns.FacetGrid(explore_frame, row='gender', hue='gender', palette={\"Female\":'m',\"Male\":'b'},\n",
    "                  aspect=2.5,size=3,margin_titles=True,)\n",
    "\n",
    "#g.map(sns.distplot,a=explore_frame.dec)\n",
    "g.fig.suptitle('Number of Yes Decisions: Male vs. Female',fontsize='large')\n",
    "g.map(sns.distplot,'dec_person',bins=15,)\n",
    "g.set_xlabels(label='Counts')\n",
    "g.set_ylabels(label='Frequency')\n",
    "g.savefig('../Assets/Dec_per_person.svg', format='svg', dpi=1200)\n",
    "plt.show();\n",
    "\n"
   ]
  },
  {
   "cell_type": "code",
   "execution_count": null,
   "metadata": {
    "collapsed": false,
    "scrolled": false
   },
   "outputs": [],
   "source": [
    "fframe['dec_person'] = frame.groupby(['gender','iid'])['dec'].transform(sum)\n",
    "\n",
    "\n",
    "\n",
    "fframe['dec_person'] = fframe.dec_person.subtract(fframe['round'])+fframe['round'].max()\n",
    "fframe['dec_person'] = minmax.fit_transform(fframe['dec_person'])\n",
    "\n",
    "mframe['dec_person'] = frame.groupby(['iid'])['dec'].transform(sum)\n",
    "mframe['dec_person'] = mframe.dec_person.subtract(mframe['round'])+mframe['round'].max()\n",
    "mframe['dec_person'] = minmax.fit_transform(mframe['dec_person'])\n",
    "\n",
    "\n",
    "\n",
    "\n",
    "fig = plt.figure(figsize=(20,10),dpi=1200)\n",
    "plt.title('Number of Positive Decision Counts per Person: Men vs Women')\n",
    "\n",
    "#sns.FacetGrid()\n",
    "\n",
    "\n",
    "\n",
    "\n",
    "ax1=fig.add_subplot(211)\n",
    "ax2=fig.add_subplot(212)\n",
    "\n",
    "sns.distplot(fframe.dec_person, color=\"m\",bins=20,label=\"Female\",ax=ax1)\n",
    "sns.distplot(mframe.dec_person, color=\"b\",bins=20,label='Male',ax=ax2)\n",
    "\n",
    "plt.ylabel('')\n",
    "\n",
    "plt.legend()\n",
    "plt.show()\n",
    "fig.set_tight_layout(True)\n",
    "#fig.savefig('../Assets/Dec_per_person.svg', format='svg', dpi=1200)"
   ]
  },
  {
   "cell_type": "code",
   "execution_count": null,
   "metadata": {
    "collapsed": false,
    "scrolled": false
   },
   "outputs": [],
   "source": [
    "fframe['match_person'] = fframe.groupby(['iid'])['match'].transform(sum)\n",
    "fframe['match_person'] = fframe.match_person.subtract(fframe['round'])+fframe['round'].max()\n",
    "fframe['match_person'] = minmax.fit_transform(fframe['match_person'])\n",
    "\n",
    "mframe['match_person'] = mframe.groupby(['wave','iid'])['match'].transform(sum)\n",
    "mframe['match_person'] = mframe.match_person.subtract(mframe['round'])+mframe['round'].max()\n",
    "mframe['match_person'] = minmax.fit_transform(mframe['match_person'])\n",
    "\n",
    "\n",
    "sns.distplot(fframe.match_person, color=\"m\",bins=21,label=\"Female\")\n",
    "sns.distplot(mframe.match_person, color=\"b\",bins=21,label='Male')\n",
    "plt.title('Number of Matches per Person: Men vs Women')\n",
    "plt.xlabel('Match Count')\n",
    "plt.legend()\n",
    "plt.show()"
   ]
  },
  {
   "cell_type": "code",
   "execution_count": null,
   "metadata": {
    "collapsed": false
   },
   "outputs": [],
   "source": [
    "iid_attributes = attributes_frame.groupby('iid').first().drop(['pid','match']+unique_date,axis=1)\n",
    "iid_attributes[['field', 'field_cd', 'from', 'career']] = iid_attributes[['field', 'field_cd', 'from', 'career']].apply(lambda x: x.astype('category'))\n",
    "iid_attributes['field_cd'] = iid_attributes.field_cd.map(field_codes).astype('category')\n",
    "plot_columns = iid_attributes.columns.str.replace('_',' ').str.title()\n",
    "iid_attributes['gender'] = iid_attributes.gender.map({0:'Female',1:'Male'})\n",
    "female_attributes = iid_attributes.loc[iid_attributes.gender==\"Female\"].drop('gender',axis=1)\n",
    "male_attributes = iid_attributes.loc[iid_attributes.gender==\"Male\"].drop('gender',axis=1)\n",
    "#iid_attributes.field = iid_attributes.field.cat.codes\n",
    "findex=female_attributes.index \n",
    "mindex=male_attributes.index"
   ]
  },
  {
   "cell_type": "code",
   "execution_count": null,
   "metadata": {
    "collapsed": false
   },
   "outputs": [],
   "source": [
    "gender_field = iid_attributes.copy()[['field_cd','gender']]\n",
    "gender_field['field_code'] = gender_field.field_cd.cat.codes\n",
    "gender_field['gender_code'] = (gender_field.gender=='Male').astype(int)\n",
    "gender_field['scaled_counts'] = gender_field.field_code\n",
    "\n",
    "ffield = gender_field.loc[gender_field.gender_code==0]\n",
    "mfield = gender_field.loc[gender_field.gender_code==1]\n",
    "\n",
    "male_field_counts = mfield.field_cd.value_counts()/mfield.field_cd.value_counts().sum()*500\n",
    "female_field_counts = ffield.field_cd.value_counts()/ffield.field_cd.value_counts().sum()*500\n",
    "\n",
    "male_field_counts.name = 'Male'\n",
    "female_field_counts.name = 'Female'\n",
    "\n",
    "combined_counts = pd.concat([male_field_counts,female_field_counts],axis=1)\n",
    "\n",
    "combined_counts['diffMale'] = combined_counts['Male']-combined_counts['Female']\n",
    "combined_counts['diffFemale'] = combined_counts['Female']-combined_counts['Male']\n",
    "combined_counts.where(combined_counts>0,inplace=True)\n",
    "combined_counts['diffFemale'] = -combined_counts['diffFemale']"
   ]
  },
  {
   "cell_type": "code",
   "execution_count": null,
   "metadata": {
    "collapsed": false,
    "scrolled": false
   },
   "outputs": [],
   "source": [
    "plot_order = combined_counts.sort_values(by=['diffMale','diffFemale'],ascending=False).index\n",
    "\n",
    "sns.set_style('white')\n",
    "\n",
    "plt.figure(figsize=(16,12),dpi=1000)\n",
    "sns.barplot(y=combined_counts.index,x='diffMale',\n",
    "            data=combined_counts,color='blue',alpha=.5,order=plot_order,label='Male')\n",
    "g=sns.barplot(y=combined_counts.index,x='diffFemale',\n",
    "            data=combined_counts,color='m',alpha=.5,order=plot_order,label='Female')\n",
    "g.set_autoscale_on(True)\n",
    "g.set_rasterized(True)\n",
    "plt.yticks(size='x-large',)\n",
    "plt.xticks(range(1,2),'')\n",
    "plt.xlabel('Counts', fontsize='xx-large')\n",
    "plt.ylabel('Fields', fontsize='xx-large')\n",
    "plt.legend(fontsize='x-large',loc=0);"
   ]
  },
  {
   "cell_type": "code",
   "execution_count": null,
   "metadata": {
    "collapsed": false,
    "scrolled": true
   },
   "outputs": [],
   "source": [
    "from imblearn.over_sampling import SMOTE\n",
    "a=iid_attributes.loc[:,iid_attributes.columns.str.contains(r'(self|gender)')]\n",
    "a.dropna(inplace=True)\n",
    "smote = SMOTE()\n",
    "x,y = smote.fit_sample(a.drop('gender',axis=1),a.gender)\n",
    "df = pd.DataFrame(data=np.log(x),columns=a.columns.drop('gender'))\n",
    "df['gender']=y\n",
    "df.fillna(0,inplace=True)"
   ]
  },
  {
   "cell_type": "code",
   "execution_count": null,
   "metadata": {
    "collapsed": true
   },
   "outputs": [],
   "source": [
    "g = sns.pairplot(data=df, hue=\"gender\", palette=\"husl\")\n",
    "g.map_diag(sns.distplot,norm_hist=True)"
   ]
  },
  {
   "cell_type": "code",
   "execution_count": null,
   "metadata": {
    "collapsed": false
   },
   "outputs": [],
   "source": [
    "a[a.columns.drop('gender')] = scale(a.drop('gender',axis=1))"
   ]
  },
  {
   "cell_type": "code",
   "execution_count": null,
   "metadata": {
    "collapsed": true
   },
   "outputs": [],
   "source": [
    "iid_attributes.loc[:,iid_attributes.columns.str.contains(r'(self|gender)')]"
   ]
  },
  {
   "cell_type": "code",
   "execution_count": null,
   "metadata": {
    "collapsed": false
   },
   "outputs": [],
   "source": [
    "sns.distplot(iid_attributes.loc[:,iid_attributes.columns.str.contains(r'(self|gender)')])"
   ]
  },
  {
   "cell_type": "code",
   "execution_count": null,
   "metadata": {
    "collapsed": true
   },
   "outputs": [],
   "source": [
    "corr = d.corr()\n",
    "\n",
    "# Generate a mask for the upper triangle\n",
    "mask = np.zeros_like(corr, dtype=np.bool)\n",
    "mask[np.triu_indices_from(mask)] = True\n",
    "\n",
    "# Set up the matplotlib figure\n",
    "f, ax = plt.subplots(figsize=(11, 9))\n",
    "\n",
    "# Generate a custom diverging colormap\n",
    "cmap = sns.diverging_palette(220, 10, as_cmap=True)\n",
    "\n",
    "# Draw the heatmap with the mask and correct aspect ratio\n",
    "sns.heatmap(corr, mask=mask, cmap=cmap, vmax=.3,\n",
    "            square=True, xticklabels=5, yticklabels=5,\n",
    "            linewidths=.5, cbar_kws={\"shrink\": .5}, ax=ax)"
   ]
  },
  {
   "cell_type": "code",
   "execution_count": null,
   "metadata": {
    "collapsed": false
   },
   "outputs": [],
   "source": [
    "iid_attributes = frame[attributes_columns].groupby('iid').first().drop(['pid','match']+unique_date,axis=1)\n",
    "iid_attributes[text_columns] = iid_attributes[text_columns].apply(lambda x: x.astype('category'))\n",
    "plot_columns = iid_attributes.columns.str.replace('_',' ').str.title()\n",
    "female_attributes = iid_attributes.loc[iid_attributes.gender==0].drop('gender',axis=1)\n",
    "male_attributes = iid_attributes.loc[iid_attributes.gender==1].drop('gender',axis=1)\n",
    "iid_attributes.field = iid_attributes.field.cat.codes\n",
    "findex=female_attributes.index \n",
    "mindex=male_attributes.index"
   ]
  },
  {
   "cell_type": "code",
   "execution_count": null,
   "metadata": {
    "collapsed": false
   },
   "outputs": [],
   "source": [
    "field.shape,ffield.shape,mfield.shape"
   ]
  },
  {
   "cell_type": "code",
   "execution_count": null,
   "metadata": {
    "collapsed": false
   },
   "outputs": [],
   "source": [
    "ffield = pd.DataFrame(female_attributes.field.value_counts()).rename(columns={'field':'female_counts'})\n",
    "mfield = pd.DataFrame(male_attributes.field.value_counts()).rename(columns={'field':'male_counts'})"
   ]
  },
  {
   "cell_type": "code",
   "execution_count": null,
   "metadata": {
    "collapsed": false
   },
   "outputs": [],
   "source": [
    "from sklearn.preprocessing import scale\n",
    "from sklearn.metrics import pairwise_distances\n",
    "dist = pairwise_distances(scale(field),metric='correlation')"
   ]
  },
  {
   "cell_type": "code",
   "execution_count": null,
   "metadata": {
    "collapsed": false
   },
   "outputs": [],
   "source": [
    "corr = pd.DataFrame(1-dist,columns=field.index,index=field.index)"
   ]
  },
  {
   "cell_type": "code",
   "execution_count": null,
   "metadata": {
    "collapsed": false
   },
   "outputs": [],
   "source": [
    "corr = pd.DataFrame(1-dist,columns=field.index,index=field.index)\n",
    "#corr = field.apply(lambda x: x/field.sum(1)).fillna(0).T.corr()\n",
    "corr = corr.where(lambda x: (-.3>x) | (x>.3))\n",
    "mask = np.zeros_like(corr, dtype=np.bool)\n",
    "mask[np.triu_indices_from(mask)] = True"
   ]
  },
  {
   "cell_type": "code",
   "execution_count": null,
   "metadata": {
    "collapsed": false
   },
   "outputs": [],
   "source": [
    "field.loc['English']"
   ]
  },
  {
   "cell_type": "code",
   "execution_count": null,
   "metadata": {
    "collapsed": false
   },
   "outputs": [],
   "source": [
    "frame.field_cd.isnull().sum()"
   ]
  },
  {
   "cell_type": "code",
   "execution_count": null,
   "metadata": {
    "collapsed": false
   },
   "outputs": [],
   "source": [
    "field.index.shape,frame.field_cd.unique().shape"
   ]
  },
  {
   "cell_type": "code",
   "execution_count": null,
   "metadata": {
    "collapsed": false
   },
   "outputs": [],
   "source": [
    "fframe.field.value_counts().loc['Non_Fiction']#,fframe.field.value_counts().loc['English']"
   ]
  },
  {
   "cell_type": "code",
   "execution_count": null,
   "metadata": {
    "collapsed": false,
    "scrolled": false
   },
   "outputs": [],
   "source": [
    "f, ax = plt.subplots(figsize=(12, 12))\n",
    "\n",
    "# Generate a custom diverging colormap\n",
    "cmap = sns.diverging_palette(220, 10, as_cmap=True)\n",
    "\n",
    "# Draw the heatmap with the mask and correct aspect ratio\n",
    "hm=sns.heatmap(corr, mask=mask, cmap=cmap, vmax=.3,\n",
    "            square=True, xticklabels=15, yticklabels=15,robust=False,\n",
    "            linewidths=.01, cbar_kws={\"shrink\": .3},ax=ax,)"
   ]
  },
  {
   "cell_type": "markdown",
   "metadata": {},
   "source": [
    "## Predict"
   ]
  },
  {
   "cell_type": "code",
   "execution_count": null,
   "metadata": {
    "collapsed": false
   },
   "outputs": [],
   "source": [
    "fmask_attributes = filled_attributes_frame.loc[frame.gender==0].drop('gender',axis=1)\n",
    "mmask_attributes =  filled_attributes_frame.loc[frame.gender==1].drop('gender',axis=1)"
   ]
  },
  {
   "cell_type": "code",
   "execution_count": null,
   "metadata": {
    "collapsed": false,
    "scrolled": false
   },
   "outputs": [],
   "source": [
    "grouped_female_attributes = fmask_attributes.groupby(unique_date).first()\n",
    "grouped_male_attributes = mmask_attributes.groupby(unique_date).first()\n",
    "merged_attributes = grouped_female_attributes.merge(grouped_male_attributes,how='inner',left_index=True,right_index=True)"
   ]
  },
  {
   "cell_type": "code",
   "execution_count": null,
   "metadata": {
    "collapsed": false
   },
   "outputs": [],
   "source": [
    "merged_attributes = merged_attributes.drop(['pid_x','pid_y','match_y'],axis=1).rename(columns={'match_x':'match'})"
   ]
  },
  {
   "cell_type": "code",
   "execution_count": null,
   "metadata": {
    "collapsed": false
   },
   "outputs": [],
   "source": [
    "dataset = merged_attributes\n",
    "X = merged_attributes.drop(\"match\",axis=1)\n",
    "y = merged_attributes[\"match\"]\n",
    "predictors = merged_attributes.drop([\"match\",'iid_y','iid_x'],axis=1).columns"
   ]
  },
  {
   "cell_type": "code",
   "execution_count": null,
   "metadata": {
    "collapsed": false
   },
   "outputs": [],
   "source": [
    "from sklearn.linear_model import LogisticRegression \n",
    "from imblearn import over_sampling,combine\n",
    "from sklearn.svm import SVC\n",
    "from sklearn.feature_selection import RFECV\n",
    "def modelfit(model, data, xcolumns=predictors, ycolumn='match', title='Model', test_size=.25, n_folds=3, scale_data=True):\n",
    "    \n",
    "    from sklearn.cross_validation import StratifiedKFold, train_test_split,cross_val_score\n",
    "    from sklearn.metrics import classification_report, accuracy_score, roc_auc_score \n",
    "    \n",
    "    \n",
    "    if scale_data:\n",
    "        data[xcolumns] = scale(data[xcolumns])\n",
    "    \n",
    "    train_data, test_data = train_test_split(data, test_size=test_size,stratify=data.match)\n",
    "    xtrain, ytrain, xtest, ytest = train_data[predictors], train_data['match'], test_data[predictors], test_data['match']\n",
    "    \n",
    "    kfold = StratifiedKFold(ytrain, n_folds=n_folds)\n",
    "    \n",
    "    sns.set_palette(palette='muted')\n",
    "    \n",
    "    resamp = combine.SMOTETomek()\n",
    "    #resamp = over_sampling.RandomOverSampler()\n",
    "    xresamp, yresamp = resamp.fit_sample(xtrain, ytrain)\n",
    "    \n",
    "    model.fit(xresamp, yresamp)        \n",
    "    predictions = model.predict(xtest)\n",
    "    probability = model.predict_proba(xtest)[:,1]\n",
    "    cv_score = cross_val_score(model, xtrain, ytrain, cv=kfold, scoring='roc_auc')\n",
    "    \n",
    "    #precision, recall, fbeta_score, support = precision_recall_fscore_support(test_data['dec'].values, predictions)\n",
    "    \n",
    "    print(classification_report(test_data[ycolumn].values, predictions))\n",
    "    print (\"Classification\\n\")\n",
    "    print (\"Accuracy : {0:.4f}\".format(accuracy_score(ytest, predictions)))\n",
    "    print (\"AUC Score (Train): {0:.4f}\".format(roc_auc_score(ytest, probability)))\n",
    "    print (\"CV Score : Mean {0:.4f} | Std {0:.4f} | Min {0:.4f} | Max {0:.4f}\".format(\n",
    "            np.mean(cv_score),\n",
    "            np.std(cv_score),\n",
    "            np.min(cv_score),\n",
    "            np.max(cv_score)))\n",
    "    plt.rc({'font.size': 10.0})\n",
    "    \n",
    "    if hasattr(model,'feature_importances_'):  \n",
    "        plt.figure(figsize=(13,5))\n",
    "        feat_imp = pd.Series(model.feature_importances_, xcolumns).sort_values(ascending=False)\n",
    "        feat_imp.plot(kind='bar',title='Feature Importances',fontsize=10)\n",
    "        plt.title('Feature Importances: {}'.format(title),fontdict={'size': 10})\n",
    "        plt.ylabel('Feature Importance',fontsize=10)\n",
    "        \n",
    "        \n",
    "    elif hasattr(model,'coef_'):\n",
    "        if hasattr(model,'kernel') and (model.kernel == 'rbf'):\n",
    "            print('No COEFs')\n",
    "        else:\n",
    "            plt.figure(figsize=(13,5))\n",
    "            coefs_imp = pd.Series(model.coef_[0], xcolumns).sort_values(ascending=False)\n",
    "            coefs_imp.plot(kind='bar',title='Coef Values: {}'.format(title),fontsize=10)\n",
    "            plt.title('Coef Values',fontdict={'size': 10})\n",
    "            plt.ylabel('Coef Values',fontsize=10)\n",
    "        \n",
    "    \n",
    "    plt.show()\n",
    "    print()\n",
    "    print()\n",
    "    return model, train_data, test_data"
   ]
  },
  {
   "cell_type": "code",
   "execution_count": null,
   "metadata": {
    "collapsed": false
   },
   "outputs": [],
   "source": [
    "lgr = LogisticRegression(C=1,penalty='l2')\n",
    "\n",
    "# modelfit(model, data, xcolumns, ycolumn, title, n_folds=0.25)\n",
    "lgr, train_data, test_data = modelfit(lgr, dataset, predictors, 'match', 'Logistic Regression', n_folds=4,test_size=.20)"
   ]
  },
  {
   "cell_type": "code",
   "execution_count": null,
   "metadata": {
    "collapsed": false
   },
   "outputs": [],
   "source": [
    "from sklearn.svm import SVC\n",
    "\n",
    "svc = SVC(C=10,probability=True)\n",
    "\n",
    "# modelfit(model, data, xcolumns, ycolumn, title, n_folds=0.25)\n",
    "svc, train_data, test_data = modelfit(svc, dataset, predictors, 'match', 'SVC', n_folds=4,test_size=.20)"
   ]
  },
  {
   "cell_type": "code",
   "execution_count": null,
   "metadata": {
    "collapsed": false
   },
   "outputs": [],
   "source": [
    "from sklearn.ensemble import GradientBoostingClassifier\n",
    "\n",
    "gbc = GradientBoostingClassifier(learning_rate=0.001, min_samples_split=16, n_estimators=3500,\n",
    "                                                               min_samples_leaf=5,\n",
    "                                                               max_depth=7,\n",
    "                                                               max_features='sqrt',\n",
    "                                                               subsample=0.8)\n",
    "# modelfit(model, data, xcolumns, ycolumn, title, n_folds=0.25)\n",
    "gbc, train_data, test_data = modelfit(gbc, dataset, predictors, 'match', 'GBC', n_folds=4,test_size=.20,scale_data=False)"
   ]
  },
  {
   "cell_type": "code",
   "execution_count": null,
   "metadata": {
    "collapsed": false
   },
   "outputs": [],
   "source": [
    "model = LogisticRegression(C=1,penalty='l2')\n",
    "model = SVC(kernel='',probability=True)\n",
    "\n",
    "resamp = combine.SMOTEENN(k=4, m=12,)\n",
    "xresamp, yresamp = resamp.fit_sample(train_data[predictors], train_data.match)\n",
    "\n",
    "#kfold = StratifiedKFold(yresamp,n_folds=4)\n",
    "#rfe = RFECV(model, step=1, cv=kfold, scoring='recall', estimator_params=None, verbose=1)\n",
    "\n",
    "#rfe.fit(scale(xresamp),yresamp)\n",
    "#print(classification_report(test_data.match, rfe.predict(scale(test_data[predictors]))))\n",
    "\n",
    "\n",
    "model.fit(scale(xresamp),yresamp)\n",
    "print(classification_report(test_data.match, model.predict(scale(test_data[predictors]))))"
   ]
  },
  {
   "cell_type": "code",
   "execution_count": null,
   "metadata": {
    "collapsed": true
   },
   "outputs": [],
   "source": [
    "def roc_curve_plot(y_true, y_score):\n",
    "    from sklearn.metrics import roc_curve, auc\n",
    "\n",
    "    # Compute fpr, tpr, thresholds and roc auc\n",
    "    fpr, tpr, thresholds = roc_curve(y_true, y_score)\n",
    "    roc_auc = auc(fpr, tpr)\n",
    "    \n",
    "    # Plot ROC curve\n",
    "    plt.plot(fpr, tpr, label='ROC curve (area = %0.3f)' % roc_auc)\n",
    "    plt.plot([0, 1], [0, 1], 'k--')  # random predictions curve\n",
    "    plt.xlim([0.0, 1.0])\n",
    "    plt.ylim([0.0, 1.0])\n",
    "    plt.xlabel('False Positive Rate or (1 - Specifity)')\n",
    "    plt.ylabel('True Positive Rate or (Sensitivity)')\n",
    "    plt.title('Receiver Operating Characteristic')\n",
    "    plt.legend(loc=\"lower right\")"
   ]
  },
  {
   "cell_type": "code",
   "execution_count": null,
   "metadata": {
    "collapsed": false
   },
   "outputs": [],
   "source": [
    "lgr.predict_proba(test_data[predictors])[:,1]"
   ]
  },
  {
   "cell_type": "code",
   "execution_count": null,
   "metadata": {
    "collapsed": false,
    "scrolled": false
   },
   "outputs": [],
   "source": [
    "roc_curve_plot(y_true=test_data['match'],y_score=lgr.predict_proba(test_data[predictors])[:,1])"
   ]
  }
 ],
 "metadata": {
  "anaconda-cloud": {},
  "kernelspec": {
   "display_name": "Python [default]",
   "language": "python",
   "name": "python3"
  },
  "language_info": {
   "codemirror_mode": {
    "name": "ipython",
    "version": 3
   },
   "file_extension": ".py",
   "mimetype": "text/x-python",
   "name": "python",
   "nbconvert_exporter": "python",
   "pygments_lexer": "ipython3",
   "version": "3.5.2"
  }
 },
 "nbformat": 4,
 "nbformat_minor": 1
}
